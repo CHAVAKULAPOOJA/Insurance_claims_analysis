{
 "cells": [
  {
   "cell_type": "code",
   "execution_count": 3,
   "id": "ab58d924",
   "metadata": {},
   "outputs": [],
   "source": [
    "# Import the necceasary packages\n",
    "\n",
    "# Numerical Operations\n",
    "import pandas as pd\n",
    "import numpy as np\n",
    "\n",
    "#Plotting\n",
    "import matplotlib.pyplot as plt\n",
    "import seaborn as sns\n",
    "\n",
    "#Remove warnings\n",
    "import warnings\n",
    "warnings.filterwarnings('ignore')\n",
    "\n",
    "#Date\n",
    "import datetime as dt\n",
    "\n",
    "# set the graphs to show in the jupyter notebook\n",
    "%matplotlib inline\n",
    "\n",
    "# set seabor graphs to a better style\n",
    "sns.set(style=\"ticks\")\n",
    "\n",
    "# for better visualization\n",
    "plt.style.use('ggplot')\n",
    "\n",
    "# for hypothesis testing\n",
    "import scipy.stats as stats\n"
   ]
  },
  {
   "cell_type": "markdown",
   "id": "71d97695",
   "metadata": {},
   "source": [
    "### 1. Import claims_data.csv and cust_data.csv which is provided to you and combine the two datasets appropriately to create a 360-degree view of the data. Use the same for the subsequent questions."
   ]
  },
  {
   "cell_type": "code",
   "execution_count": 4,
   "id": "522c5988",
   "metadata": {},
   "outputs": [
    {
     "data": {
      "text/html": [
       "<div>\n",
       "<style scoped>\n",
       "    .dataframe tbody tr th:only-of-type {\n",
       "        vertical-align: middle;\n",
       "    }\n",
       "\n",
       "    .dataframe tbody tr th {\n",
       "        vertical-align: top;\n",
       "    }\n",
       "\n",
       "    .dataframe thead th {\n",
       "        text-align: right;\n",
       "    }\n",
       "</style>\n",
       "<table border=\"1\" class=\"dataframe\">\n",
       "  <thead>\n",
       "    <tr style=\"text-align: right;\">\n",
       "      <th></th>\n",
       "      <th>claim_id</th>\n",
       "      <th>customer_id</th>\n",
       "      <th>incident_cause</th>\n",
       "      <th>claim_date</th>\n",
       "      <th>claim_area</th>\n",
       "      <th>police_report</th>\n",
       "      <th>claim_type</th>\n",
       "      <th>claim_amount</th>\n",
       "      <th>total_policy_claims</th>\n",
       "      <th>fraudulent</th>\n",
       "      <th>CUST_ID</th>\n",
       "      <th>gender</th>\n",
       "      <th>DateOfBirth</th>\n",
       "      <th>State</th>\n",
       "      <th>Contact</th>\n",
       "      <th>Segment</th>\n",
       "    </tr>\n",
       "  </thead>\n",
       "  <tbody>\n",
       "    <tr>\n",
       "      <th>0</th>\n",
       "      <td>54004764</td>\n",
       "      <td>21868593</td>\n",
       "      <td>Driver error</td>\n",
       "      <td>11/27/2017</td>\n",
       "      <td>Auto</td>\n",
       "      <td>No</td>\n",
       "      <td>Material only</td>\n",
       "      <td>$2980</td>\n",
       "      <td>1.0</td>\n",
       "      <td>No</td>\n",
       "      <td>21868593</td>\n",
       "      <td>Female</td>\n",
       "      <td>12-Jan-79</td>\n",
       "      <td>VT</td>\n",
       "      <td>789-916-8172</td>\n",
       "      <td>Platinum</td>\n",
       "    </tr>\n",
       "    <tr>\n",
       "      <th>1</th>\n",
       "      <td>33985796</td>\n",
       "      <td>75740424</td>\n",
       "      <td>Crime</td>\n",
       "      <td>10/03/2018</td>\n",
       "      <td>Home</td>\n",
       "      <td>Unknown</td>\n",
       "      <td>Material only</td>\n",
       "      <td>$2980</td>\n",
       "      <td>3.0</td>\n",
       "      <td>No</td>\n",
       "      <td>75740424</td>\n",
       "      <td>Female</td>\n",
       "      <td>13-Jan-70</td>\n",
       "      <td>ME</td>\n",
       "      <td>265-543-1264</td>\n",
       "      <td>Silver</td>\n",
       "    </tr>\n",
       "    <tr>\n",
       "      <th>2</th>\n",
       "      <td>53522022</td>\n",
       "      <td>30308357</td>\n",
       "      <td>Other driver error</td>\n",
       "      <td>02/02/2018</td>\n",
       "      <td>Auto</td>\n",
       "      <td>No</td>\n",
       "      <td>Material only</td>\n",
       "      <td>$3369.5</td>\n",
       "      <td>1.0</td>\n",
       "      <td>Yes</td>\n",
       "      <td>30308357</td>\n",
       "      <td>Female</td>\n",
       "      <td>11-Mar-84</td>\n",
       "      <td>TN</td>\n",
       "      <td>798-631-4758</td>\n",
       "      <td>Silver</td>\n",
       "    </tr>\n",
       "    <tr>\n",
       "      <th>3</th>\n",
       "      <td>63017412</td>\n",
       "      <td>30308357</td>\n",
       "      <td>Driver error</td>\n",
       "      <td>04/04/2018</td>\n",
       "      <td>Auto</td>\n",
       "      <td>No</td>\n",
       "      <td>Material only</td>\n",
       "      <td>$1950</td>\n",
       "      <td>6.0</td>\n",
       "      <td>No</td>\n",
       "      <td>30308357</td>\n",
       "      <td>Female</td>\n",
       "      <td>11-Mar-84</td>\n",
       "      <td>TN</td>\n",
       "      <td>798-631-4758</td>\n",
       "      <td>Silver</td>\n",
       "    </tr>\n",
       "    <tr>\n",
       "      <th>4</th>\n",
       "      <td>13015401</td>\n",
       "      <td>47830476</td>\n",
       "      <td>Natural causes</td>\n",
       "      <td>06/17/2018</td>\n",
       "      <td>Auto</td>\n",
       "      <td>No</td>\n",
       "      <td>Material only</td>\n",
       "      <td>$1680</td>\n",
       "      <td>1.0</td>\n",
       "      <td>No</td>\n",
       "      <td>47830476</td>\n",
       "      <td>Female</td>\n",
       "      <td>01-May-86</td>\n",
       "      <td>MA</td>\n",
       "      <td>413-187-7945</td>\n",
       "      <td>Silver</td>\n",
       "    </tr>\n",
       "    <tr>\n",
       "      <th>...</th>\n",
       "      <td>...</td>\n",
       "      <td>...</td>\n",
       "      <td>...</td>\n",
       "      <td>...</td>\n",
       "      <td>...</td>\n",
       "      <td>...</td>\n",
       "      <td>...</td>\n",
       "      <td>...</td>\n",
       "      <td>...</td>\n",
       "      <td>...</td>\n",
       "      <td>...</td>\n",
       "      <td>...</td>\n",
       "      <td>...</td>\n",
       "      <td>...</td>\n",
       "      <td>...</td>\n",
       "      <td>...</td>\n",
       "    </tr>\n",
       "    <tr>\n",
       "      <th>1080</th>\n",
       "      <td>62020796</td>\n",
       "      <td>79539873</td>\n",
       "      <td>Other driver error</td>\n",
       "      <td>09/06/2018</td>\n",
       "      <td>Auto</td>\n",
       "      <td>Yes</td>\n",
       "      <td>Material only</td>\n",
       "      <td>$1770</td>\n",
       "      <td>1.0</td>\n",
       "      <td>No</td>\n",
       "      <td>79539873</td>\n",
       "      <td>Female</td>\n",
       "      <td>15-Mar-81</td>\n",
       "      <td>ND</td>\n",
       "      <td>459-425-4319</td>\n",
       "      <td>Platinum</td>\n",
       "    </tr>\n",
       "    <tr>\n",
       "      <th>1081</th>\n",
       "      <td>63269067</td>\n",
       "      <td>42364152</td>\n",
       "      <td>Other causes</td>\n",
       "      <td>05/09/2017</td>\n",
       "      <td>Home</td>\n",
       "      <td>No</td>\n",
       "      <td>Material only</td>\n",
       "      <td>$2800</td>\n",
       "      <td>1.0</td>\n",
       "      <td>No</td>\n",
       "      <td>42364152</td>\n",
       "      <td>Female</td>\n",
       "      <td>07-Jul-96</td>\n",
       "      <td>ID</td>\n",
       "      <td>529-462-1635</td>\n",
       "      <td>Silver</td>\n",
       "    </tr>\n",
       "    <tr>\n",
       "      <th>1082</th>\n",
       "      <td>22690595</td>\n",
       "      <td>19888166</td>\n",
       "      <td>Other driver error</td>\n",
       "      <td>05/15/2017</td>\n",
       "      <td>Auto</td>\n",
       "      <td>Yes</td>\n",
       "      <td>Injury only</td>\n",
       "      <td>$33080</td>\n",
       "      <td>2.0</td>\n",
       "      <td>No</td>\n",
       "      <td>19888166</td>\n",
       "      <td>Male</td>\n",
       "      <td>11-Apr-90</td>\n",
       "      <td>WI</td>\n",
       "      <td>712-651-9613</td>\n",
       "      <td>Gold</td>\n",
       "    </tr>\n",
       "    <tr>\n",
       "      <th>1083</th>\n",
       "      <td>12376894</td>\n",
       "      <td>11256802</td>\n",
       "      <td>Other driver error</td>\n",
       "      <td>04/18/2017</td>\n",
       "      <td>Auto</td>\n",
       "      <td>No</td>\n",
       "      <td>Material only</td>\n",
       "      <td>$2840</td>\n",
       "      <td>4.0</td>\n",
       "      <td>No</td>\n",
       "      <td>11256802</td>\n",
       "      <td>Female</td>\n",
       "      <td>22-Oct-64</td>\n",
       "      <td>LA</td>\n",
       "      <td>469-345-5617</td>\n",
       "      <td>Silver</td>\n",
       "    </tr>\n",
       "    <tr>\n",
       "      <th>1084</th>\n",
       "      <td>63226031</td>\n",
       "      <td>61575264</td>\n",
       "      <td>Natural causes</td>\n",
       "      <td>03/16/2017</td>\n",
       "      <td>Auto</td>\n",
       "      <td>No</td>\n",
       "      <td>Material only</td>\n",
       "      <td>$1490</td>\n",
       "      <td>1.0</td>\n",
       "      <td>No</td>\n",
       "      <td>61575264</td>\n",
       "      <td>Male</td>\n",
       "      <td>12-Jul-95</td>\n",
       "      <td>WY</td>\n",
       "      <td>182-385-1392</td>\n",
       "      <td>Gold</td>\n",
       "    </tr>\n",
       "  </tbody>\n",
       "</table>\n",
       "<p>1085 rows × 16 columns</p>\n",
       "</div>"
      ],
      "text/plain": [
       "      claim_id  customer_id      incident_cause  claim_date claim_area  \\\n",
       "0     54004764     21868593        Driver error  11/27/2017       Auto   \n",
       "1     33985796     75740424               Crime  10/03/2018       Home   \n",
       "2     53522022     30308357  Other driver error  02/02/2018       Auto   \n",
       "3     63017412     30308357        Driver error  04/04/2018       Auto   \n",
       "4     13015401     47830476      Natural causes  06/17/2018       Auto   \n",
       "...        ...          ...                 ...         ...        ...   \n",
       "1080  62020796     79539873  Other driver error  09/06/2018       Auto   \n",
       "1081  63269067     42364152        Other causes  05/09/2017       Home   \n",
       "1082  22690595     19888166  Other driver error  05/15/2017       Auto   \n",
       "1083  12376894     11256802  Other driver error  04/18/2017       Auto   \n",
       "1084  63226031     61575264      Natural causes  03/16/2017       Auto   \n",
       "\n",
       "     police_report     claim_type claim_amount  total_policy_claims  \\\n",
       "0               No  Material only        $2980                  1.0   \n",
       "1          Unknown  Material only        $2980                  3.0   \n",
       "2               No  Material only      $3369.5                  1.0   \n",
       "3               No  Material only        $1950                  6.0   \n",
       "4               No  Material only        $1680                  1.0   \n",
       "...            ...            ...          ...                  ...   \n",
       "1080           Yes  Material only        $1770                  1.0   \n",
       "1081            No  Material only        $2800                  1.0   \n",
       "1082           Yes    Injury only       $33080                  2.0   \n",
       "1083            No  Material only        $2840                  4.0   \n",
       "1084            No  Material only        $1490                  1.0   \n",
       "\n",
       "     fraudulent   CUST_ID  gender DateOfBirth State       Contact   Segment  \n",
       "0            No  21868593  Female   12-Jan-79    VT  789-916-8172  Platinum  \n",
       "1            No  75740424  Female   13-Jan-70    ME  265-543-1264    Silver  \n",
       "2           Yes  30308357  Female   11-Mar-84    TN  798-631-4758    Silver  \n",
       "3            No  30308357  Female   11-Mar-84    TN  798-631-4758    Silver  \n",
       "4            No  47830476  Female   01-May-86    MA  413-187-7945    Silver  \n",
       "...         ...       ...     ...         ...   ...           ...       ...  \n",
       "1080         No  79539873  Female   15-Mar-81    ND  459-425-4319  Platinum  \n",
       "1081         No  42364152  Female   07-Jul-96    ID  529-462-1635    Silver  \n",
       "1082         No  19888166    Male   11-Apr-90    WI  712-651-9613      Gold  \n",
       "1083         No  11256802  Female   22-Oct-64    LA  469-345-5617    Silver  \n",
       "1084         No  61575264    Male   12-Jul-95    WY  182-385-1392      Gold  \n",
       "\n",
       "[1085 rows x 16 columns]"
      ]
     },
     "execution_count": 4,
     "metadata": {},
     "output_type": "execute_result"
    }
   ],
   "source": [
    "claim_data = pd.read_csv(\"F:\\PYTHON DATASCIENCE\\insurance case study\\claims.csv\")\n",
    "cust_data = pd.read_csv(\"F:\\PYTHON DATASCIENCE\\insurance case study\\cust_demographics.csv\")\n",
    "data=pd.merge(left=claim_data,right=cust_data,how='inner',left_on ='customer_id',right_on = 'CUST_ID')\n",
    "data\n"
   ]
  },
  {
   "cell_type": "markdown",
   "id": "4b1b40e2",
   "metadata": {},
   "source": [
    "# 2. Perform a data audit for the datatypes and find out if there are any mismatch within the current datatypes of the columns and theirbusiness significance."
   ]
  },
  {
   "cell_type": "code",
   "execution_count": 5,
   "id": "7bede4cb",
   "metadata": {},
   "outputs": [
    {
     "name": "stdout",
     "output_type": "stream",
     "text": [
      "<class 'pandas.core.frame.DataFrame'>\n",
      "Int64Index: 1085 entries, 0 to 1084\n",
      "Data columns (total 16 columns):\n",
      " #   Column               Non-Null Count  Dtype  \n",
      "---  ------               --------------  -----  \n",
      " 0   claim_id             1085 non-null   int64  \n",
      " 1   customer_id          1085 non-null   int64  \n",
      " 2   incident_cause       1085 non-null   object \n",
      " 3   claim_date           1085 non-null   object \n",
      " 4   claim_area           1085 non-null   object \n",
      " 5   police_report        1085 non-null   object \n",
      " 6   claim_type           1085 non-null   object \n",
      " 7   claim_amount         1020 non-null   object \n",
      " 8   total_policy_claims  1075 non-null   float64\n",
      " 9   fraudulent           1085 non-null   object \n",
      " 10  CUST_ID              1085 non-null   int64  \n",
      " 11  gender               1085 non-null   object \n",
      " 12  DateOfBirth          1085 non-null   object \n",
      " 13  State                1085 non-null   object \n",
      " 14  Contact              1085 non-null   object \n",
      " 15  Segment              1085 non-null   object \n",
      "dtypes: float64(1), int64(3), object(12)\n",
      "memory usage: 144.1+ KB\n"
     ]
    }
   ],
   "source": [
    "data.info()"
   ]
  },
  {
   "cell_type": "code",
   "execution_count": 6,
   "id": "dd6532a4",
   "metadata": {},
   "outputs": [
    {
     "data": {
      "text/plain": [
       "(1085, 16)"
      ]
     },
     "execution_count": 6,
     "metadata": {},
     "output_type": "execute_result"
    }
   ],
   "source": [
    "data.shape"
   ]
  },
  {
   "cell_type": "code",
   "execution_count": 7,
   "id": "fe8084f8",
   "metadata": {},
   "outputs": [
    {
     "data": {
      "text/plain": [
       "claim_id                 int64\n",
       "customer_id              int64\n",
       "incident_cause          object\n",
       "claim_date              object\n",
       "claim_area              object\n",
       "police_report           object\n",
       "claim_type              object\n",
       "claim_amount            object\n",
       "total_policy_claims    float64\n",
       "fraudulent              object\n",
       "CUST_ID                  int64\n",
       "gender                  object\n",
       "DateOfBirth             object\n",
       "State                   object\n",
       "Contact                 object\n",
       "Segment                 object\n",
       "dtype: object"
      ]
     },
     "execution_count": 7,
     "metadata": {},
     "output_type": "execute_result"
    }
   ],
   "source": [
    "data.dtypes"
   ]
  },
  {
   "cell_type": "code",
   "execution_count": 8,
   "id": "bb3b2d1a",
   "metadata": {},
   "outputs": [
    {
     "data": {
      "text/plain": [
       "claim_id                        int64\n",
       "customer_id                     int64\n",
       "incident_cause                 object\n",
       "claim_date             datetime64[ns]\n",
       "claim_area                     object\n",
       "police_report                  object\n",
       "claim_type                     object\n",
       "claim_amount                   object\n",
       "total_policy_claims           float64\n",
       "fraudulent                     object\n",
       "CUST_ID                         int64\n",
       "gender                         object\n",
       "DateOfBirth            datetime64[ns]\n",
       "State                          object\n",
       "Contact                        object\n",
       "Segment                        object\n",
       "dtype: object"
      ]
     },
     "execution_count": 8,
     "metadata": {},
     "output_type": "execute_result"
    }
   ],
   "source": [
    "# claim_date and DateOfBirth has Object data type. but it should have Datetime data type.\n",
    "# converting to Datetime data type.\n",
    "\n",
    "data.claim_date=pd.to_datetime(data.claim_date)\n",
    "data.DateOfBirth=pd.to_datetime(data.DateOfBirth)\n",
    "data.DateOfBirth=np.where(data.DateOfBirth.astype(str).str[2:4].astype(int) <=71,data.DateOfBirth-pd.DateOffset(years=100),data.DateOfBirth)\n",
    "data.dtypes"
   ]
  },
  {
   "cell_type": "code",
   "execution_count": 9,
   "id": "3cc51319",
   "metadata": {},
   "outputs": [
    {
     "data": {
      "text/html": [
       "<div>\n",
       "<style scoped>\n",
       "    .dataframe tbody tr th:only-of-type {\n",
       "        vertical-align: middle;\n",
       "    }\n",
       "\n",
       "    .dataframe tbody tr th {\n",
       "        vertical-align: top;\n",
       "    }\n",
       "\n",
       "    .dataframe thead th {\n",
       "        text-align: right;\n",
       "    }\n",
       "</style>\n",
       "<table border=\"1\" class=\"dataframe\">\n",
       "  <thead>\n",
       "    <tr style=\"text-align: right;\">\n",
       "      <th></th>\n",
       "      <th>claim_id</th>\n",
       "      <th>customer_id</th>\n",
       "      <th>incident_cause</th>\n",
       "      <th>claim_date</th>\n",
       "      <th>claim_area</th>\n",
       "      <th>police_report</th>\n",
       "      <th>claim_type</th>\n",
       "      <th>claim_amount</th>\n",
       "      <th>total_policy_claims</th>\n",
       "      <th>fraudulent</th>\n",
       "      <th>gender</th>\n",
       "      <th>DateOfBirth</th>\n",
       "      <th>State</th>\n",
       "      <th>Contact</th>\n",
       "      <th>Segment</th>\n",
       "    </tr>\n",
       "  </thead>\n",
       "  <tbody>\n",
       "    <tr>\n",
       "      <th>0</th>\n",
       "      <td>54004764</td>\n",
       "      <td>21868593</td>\n",
       "      <td>Driver error</td>\n",
       "      <td>2017-11-27</td>\n",
       "      <td>Auto</td>\n",
       "      <td>No</td>\n",
       "      <td>Material only</td>\n",
       "      <td>$2980</td>\n",
       "      <td>1.0</td>\n",
       "      <td>No</td>\n",
       "      <td>Female</td>\n",
       "      <td>1979-01-12</td>\n",
       "      <td>VT</td>\n",
       "      <td>789-916-8172</td>\n",
       "      <td>Platinum</td>\n",
       "    </tr>\n",
       "    <tr>\n",
       "      <th>1</th>\n",
       "      <td>33985796</td>\n",
       "      <td>75740424</td>\n",
       "      <td>Crime</td>\n",
       "      <td>2018-10-03</td>\n",
       "      <td>Home</td>\n",
       "      <td>Unknown</td>\n",
       "      <td>Material only</td>\n",
       "      <td>$2980</td>\n",
       "      <td>3.0</td>\n",
       "      <td>No</td>\n",
       "      <td>Female</td>\n",
       "      <td>1970-01-13</td>\n",
       "      <td>ME</td>\n",
       "      <td>265-543-1264</td>\n",
       "      <td>Silver</td>\n",
       "    </tr>\n",
       "    <tr>\n",
       "      <th>2</th>\n",
       "      <td>53522022</td>\n",
       "      <td>30308357</td>\n",
       "      <td>Other driver error</td>\n",
       "      <td>2018-02-02</td>\n",
       "      <td>Auto</td>\n",
       "      <td>No</td>\n",
       "      <td>Material only</td>\n",
       "      <td>$3369.5</td>\n",
       "      <td>1.0</td>\n",
       "      <td>Yes</td>\n",
       "      <td>Female</td>\n",
       "      <td>1984-03-11</td>\n",
       "      <td>TN</td>\n",
       "      <td>798-631-4758</td>\n",
       "      <td>Silver</td>\n",
       "    </tr>\n",
       "    <tr>\n",
       "      <th>3</th>\n",
       "      <td>63017412</td>\n",
       "      <td>30308357</td>\n",
       "      <td>Driver error</td>\n",
       "      <td>2018-04-04</td>\n",
       "      <td>Auto</td>\n",
       "      <td>No</td>\n",
       "      <td>Material only</td>\n",
       "      <td>$1950</td>\n",
       "      <td>6.0</td>\n",
       "      <td>No</td>\n",
       "      <td>Female</td>\n",
       "      <td>1984-03-11</td>\n",
       "      <td>TN</td>\n",
       "      <td>798-631-4758</td>\n",
       "      <td>Silver</td>\n",
       "    </tr>\n",
       "    <tr>\n",
       "      <th>4</th>\n",
       "      <td>13015401</td>\n",
       "      <td>47830476</td>\n",
       "      <td>Natural causes</td>\n",
       "      <td>2018-06-17</td>\n",
       "      <td>Auto</td>\n",
       "      <td>No</td>\n",
       "      <td>Material only</td>\n",
       "      <td>$1680</td>\n",
       "      <td>1.0</td>\n",
       "      <td>No</td>\n",
       "      <td>Female</td>\n",
       "      <td>1986-05-01</td>\n",
       "      <td>MA</td>\n",
       "      <td>413-187-7945</td>\n",
       "      <td>Silver</td>\n",
       "    </tr>\n",
       "    <tr>\n",
       "      <th>...</th>\n",
       "      <td>...</td>\n",
       "      <td>...</td>\n",
       "      <td>...</td>\n",
       "      <td>...</td>\n",
       "      <td>...</td>\n",
       "      <td>...</td>\n",
       "      <td>...</td>\n",
       "      <td>...</td>\n",
       "      <td>...</td>\n",
       "      <td>...</td>\n",
       "      <td>...</td>\n",
       "      <td>...</td>\n",
       "      <td>...</td>\n",
       "      <td>...</td>\n",
       "      <td>...</td>\n",
       "    </tr>\n",
       "    <tr>\n",
       "      <th>1080</th>\n",
       "      <td>62020796</td>\n",
       "      <td>79539873</td>\n",
       "      <td>Other driver error</td>\n",
       "      <td>2018-09-06</td>\n",
       "      <td>Auto</td>\n",
       "      <td>Yes</td>\n",
       "      <td>Material only</td>\n",
       "      <td>$1770</td>\n",
       "      <td>1.0</td>\n",
       "      <td>No</td>\n",
       "      <td>Female</td>\n",
       "      <td>1981-03-15</td>\n",
       "      <td>ND</td>\n",
       "      <td>459-425-4319</td>\n",
       "      <td>Platinum</td>\n",
       "    </tr>\n",
       "    <tr>\n",
       "      <th>1081</th>\n",
       "      <td>63269067</td>\n",
       "      <td>42364152</td>\n",
       "      <td>Other causes</td>\n",
       "      <td>2017-05-09</td>\n",
       "      <td>Home</td>\n",
       "      <td>No</td>\n",
       "      <td>Material only</td>\n",
       "      <td>$2800</td>\n",
       "      <td>1.0</td>\n",
       "      <td>No</td>\n",
       "      <td>Female</td>\n",
       "      <td>1996-07-07</td>\n",
       "      <td>ID</td>\n",
       "      <td>529-462-1635</td>\n",
       "      <td>Silver</td>\n",
       "    </tr>\n",
       "    <tr>\n",
       "      <th>1082</th>\n",
       "      <td>22690595</td>\n",
       "      <td>19888166</td>\n",
       "      <td>Other driver error</td>\n",
       "      <td>2017-05-15</td>\n",
       "      <td>Auto</td>\n",
       "      <td>Yes</td>\n",
       "      <td>Injury only</td>\n",
       "      <td>$33080</td>\n",
       "      <td>2.0</td>\n",
       "      <td>No</td>\n",
       "      <td>Male</td>\n",
       "      <td>1990-04-11</td>\n",
       "      <td>WI</td>\n",
       "      <td>712-651-9613</td>\n",
       "      <td>Gold</td>\n",
       "    </tr>\n",
       "    <tr>\n",
       "      <th>1083</th>\n",
       "      <td>12376894</td>\n",
       "      <td>11256802</td>\n",
       "      <td>Other driver error</td>\n",
       "      <td>2017-04-18</td>\n",
       "      <td>Auto</td>\n",
       "      <td>No</td>\n",
       "      <td>Material only</td>\n",
       "      <td>$2840</td>\n",
       "      <td>4.0</td>\n",
       "      <td>No</td>\n",
       "      <td>Female</td>\n",
       "      <td>1964-10-22</td>\n",
       "      <td>LA</td>\n",
       "      <td>469-345-5617</td>\n",
       "      <td>Silver</td>\n",
       "    </tr>\n",
       "    <tr>\n",
       "      <th>1084</th>\n",
       "      <td>63226031</td>\n",
       "      <td>61575264</td>\n",
       "      <td>Natural causes</td>\n",
       "      <td>2017-03-16</td>\n",
       "      <td>Auto</td>\n",
       "      <td>No</td>\n",
       "      <td>Material only</td>\n",
       "      <td>$1490</td>\n",
       "      <td>1.0</td>\n",
       "      <td>No</td>\n",
       "      <td>Male</td>\n",
       "      <td>1995-07-12</td>\n",
       "      <td>WY</td>\n",
       "      <td>182-385-1392</td>\n",
       "      <td>Gold</td>\n",
       "    </tr>\n",
       "  </tbody>\n",
       "</table>\n",
       "<p>1085 rows × 15 columns</p>\n",
       "</div>"
      ],
      "text/plain": [
       "      claim_id  customer_id      incident_cause claim_date claim_area  \\\n",
       "0     54004764     21868593        Driver error 2017-11-27       Auto   \n",
       "1     33985796     75740424               Crime 2018-10-03       Home   \n",
       "2     53522022     30308357  Other driver error 2018-02-02       Auto   \n",
       "3     63017412     30308357        Driver error 2018-04-04       Auto   \n",
       "4     13015401     47830476      Natural causes 2018-06-17       Auto   \n",
       "...        ...          ...                 ...        ...        ...   \n",
       "1080  62020796     79539873  Other driver error 2018-09-06       Auto   \n",
       "1081  63269067     42364152        Other causes 2017-05-09       Home   \n",
       "1082  22690595     19888166  Other driver error 2017-05-15       Auto   \n",
       "1083  12376894     11256802  Other driver error 2017-04-18       Auto   \n",
       "1084  63226031     61575264      Natural causes 2017-03-16       Auto   \n",
       "\n",
       "     police_report     claim_type claim_amount  total_policy_claims  \\\n",
       "0               No  Material only        $2980                  1.0   \n",
       "1          Unknown  Material only        $2980                  3.0   \n",
       "2               No  Material only      $3369.5                  1.0   \n",
       "3               No  Material only        $1950                  6.0   \n",
       "4               No  Material only        $1680                  1.0   \n",
       "...            ...            ...          ...                  ...   \n",
       "1080           Yes  Material only        $1770                  1.0   \n",
       "1081            No  Material only        $2800                  1.0   \n",
       "1082           Yes    Injury only       $33080                  2.0   \n",
       "1083            No  Material only        $2840                  4.0   \n",
       "1084            No  Material only        $1490                  1.0   \n",
       "\n",
       "     fraudulent  gender DateOfBirth State       Contact   Segment  \n",
       "0            No  Female  1979-01-12    VT  789-916-8172  Platinum  \n",
       "1            No  Female  1970-01-13    ME  265-543-1264    Silver  \n",
       "2           Yes  Female  1984-03-11    TN  798-631-4758    Silver  \n",
       "3            No  Female  1984-03-11    TN  798-631-4758    Silver  \n",
       "4            No  Female  1986-05-01    MA  413-187-7945    Silver  \n",
       "...         ...     ...         ...   ...           ...       ...  \n",
       "1080         No  Female  1981-03-15    ND  459-425-4319  Platinum  \n",
       "1081         No  Female  1996-07-07    ID  529-462-1635    Silver  \n",
       "1082         No    Male  1990-04-11    WI  712-651-9613      Gold  \n",
       "1083         No  Female  1964-10-22    LA  469-345-5617    Silver  \n",
       "1084         No    Male  1995-07-12    WY  182-385-1392      Gold  \n",
       "\n",
       "[1085 rows x 15 columns]"
      ]
     },
     "execution_count": 9,
     "metadata": {},
     "output_type": "execute_result"
    }
   ],
   "source": [
    "# CUST_ID and customer_id are both same. therefore dropping one column i.e.CUST_ID\n",
    "\n",
    "data=data.drop(columns='CUST_ID')\n",
    "data"
   ]
  },
  {
   "cell_type": "code",
   "execution_count": 10,
   "id": "da8ae8d1",
   "metadata": {},
   "outputs": [
    {
     "name": "stdout",
     "output_type": "stream",
     "text": [
      "<class 'pandas.core.frame.DataFrame'>\n",
      "Int64Index: 1085 entries, 0 to 1084\n",
      "Data columns (total 15 columns):\n",
      " #   Column               Non-Null Count  Dtype         \n",
      "---  ------               --------------  -----         \n",
      " 0   claim_id             1085 non-null   int64         \n",
      " 1   customer_id          1085 non-null   int64         \n",
      " 2   incident_cause       1085 non-null   object        \n",
      " 3   claim_date           1085 non-null   datetime64[ns]\n",
      " 4   claim_area           1085 non-null   object        \n",
      " 5   police_report        1085 non-null   object        \n",
      " 6   claim_type           1085 non-null   object        \n",
      " 7   claim_amount         1020 non-null   object        \n",
      " 8   total_policy_claims  1075 non-null   float64       \n",
      " 9   fraudulent           1085 non-null   object        \n",
      " 10  gender               1085 non-null   object        \n",
      " 11  DateOfBirth          1085 non-null   datetime64[ns]\n",
      " 12  State                1085 non-null   object        \n",
      " 13  Contact              1085 non-null   object        \n",
      " 14  Segment              1085 non-null   object        \n",
      "dtypes: datetime64[ns](2), float64(1), int64(2), object(10)\n",
      "memory usage: 135.6+ KB\n"
     ]
    }
   ],
   "source": [
    "data.info()"
   ]
  },
  {
   "cell_type": "markdown",
   "id": "2c221f44",
   "metadata": {},
   "source": [
    "# 3. Convert the column claim_amount to numeric. Use the appropriate modules/attributes to remove the $ sign."
   ]
  },
  {
   "cell_type": "code",
   "execution_count": 11,
   "id": "22b962fc",
   "metadata": {},
   "outputs": [
    {
     "data": {
      "text/html": [
       "<div>\n",
       "<style scoped>\n",
       "    .dataframe tbody tr th:only-of-type {\n",
       "        vertical-align: middle;\n",
       "    }\n",
       "\n",
       "    .dataframe tbody tr th {\n",
       "        vertical-align: top;\n",
       "    }\n",
       "\n",
       "    .dataframe thead th {\n",
       "        text-align: right;\n",
       "    }\n",
       "</style>\n",
       "<table border=\"1\" class=\"dataframe\">\n",
       "  <thead>\n",
       "    <tr style=\"text-align: right;\">\n",
       "      <th></th>\n",
       "      <th>claim_id</th>\n",
       "      <th>customer_id</th>\n",
       "      <th>incident_cause</th>\n",
       "      <th>claim_date</th>\n",
       "      <th>claim_area</th>\n",
       "      <th>police_report</th>\n",
       "      <th>claim_type</th>\n",
       "      <th>claim_amount</th>\n",
       "      <th>total_policy_claims</th>\n",
       "      <th>fraudulent</th>\n",
       "      <th>gender</th>\n",
       "      <th>DateOfBirth</th>\n",
       "      <th>State</th>\n",
       "      <th>Contact</th>\n",
       "      <th>Segment</th>\n",
       "    </tr>\n",
       "  </thead>\n",
       "  <tbody>\n",
       "    <tr>\n",
       "      <th>0</th>\n",
       "      <td>54004764</td>\n",
       "      <td>21868593</td>\n",
       "      <td>Driver error</td>\n",
       "      <td>2017-11-27</td>\n",
       "      <td>Auto</td>\n",
       "      <td>No</td>\n",
       "      <td>Material only</td>\n",
       "      <td>2980.0</td>\n",
       "      <td>1.0</td>\n",
       "      <td>No</td>\n",
       "      <td>Female</td>\n",
       "      <td>1979-01-12</td>\n",
       "      <td>VT</td>\n",
       "      <td>789-916-8172</td>\n",
       "      <td>Platinum</td>\n",
       "    </tr>\n",
       "    <tr>\n",
       "      <th>1</th>\n",
       "      <td>33985796</td>\n",
       "      <td>75740424</td>\n",
       "      <td>Crime</td>\n",
       "      <td>2018-10-03</td>\n",
       "      <td>Home</td>\n",
       "      <td>Unknown</td>\n",
       "      <td>Material only</td>\n",
       "      <td>2980.0</td>\n",
       "      <td>3.0</td>\n",
       "      <td>No</td>\n",
       "      <td>Female</td>\n",
       "      <td>1970-01-13</td>\n",
       "      <td>ME</td>\n",
       "      <td>265-543-1264</td>\n",
       "      <td>Silver</td>\n",
       "    </tr>\n",
       "    <tr>\n",
       "      <th>2</th>\n",
       "      <td>53522022</td>\n",
       "      <td>30308357</td>\n",
       "      <td>Other driver error</td>\n",
       "      <td>2018-02-02</td>\n",
       "      <td>Auto</td>\n",
       "      <td>No</td>\n",
       "      <td>Material only</td>\n",
       "      <td>3369.5</td>\n",
       "      <td>1.0</td>\n",
       "      <td>Yes</td>\n",
       "      <td>Female</td>\n",
       "      <td>1984-03-11</td>\n",
       "      <td>TN</td>\n",
       "      <td>798-631-4758</td>\n",
       "      <td>Silver</td>\n",
       "    </tr>\n",
       "    <tr>\n",
       "      <th>3</th>\n",
       "      <td>63017412</td>\n",
       "      <td>30308357</td>\n",
       "      <td>Driver error</td>\n",
       "      <td>2018-04-04</td>\n",
       "      <td>Auto</td>\n",
       "      <td>No</td>\n",
       "      <td>Material only</td>\n",
       "      <td>1950.0</td>\n",
       "      <td>6.0</td>\n",
       "      <td>No</td>\n",
       "      <td>Female</td>\n",
       "      <td>1984-03-11</td>\n",
       "      <td>TN</td>\n",
       "      <td>798-631-4758</td>\n",
       "      <td>Silver</td>\n",
       "    </tr>\n",
       "    <tr>\n",
       "      <th>4</th>\n",
       "      <td>13015401</td>\n",
       "      <td>47830476</td>\n",
       "      <td>Natural causes</td>\n",
       "      <td>2018-06-17</td>\n",
       "      <td>Auto</td>\n",
       "      <td>No</td>\n",
       "      <td>Material only</td>\n",
       "      <td>1680.0</td>\n",
       "      <td>1.0</td>\n",
       "      <td>No</td>\n",
       "      <td>Female</td>\n",
       "      <td>1986-05-01</td>\n",
       "      <td>MA</td>\n",
       "      <td>413-187-7945</td>\n",
       "      <td>Silver</td>\n",
       "    </tr>\n",
       "    <tr>\n",
       "      <th>...</th>\n",
       "      <td>...</td>\n",
       "      <td>...</td>\n",
       "      <td>...</td>\n",
       "      <td>...</td>\n",
       "      <td>...</td>\n",
       "      <td>...</td>\n",
       "      <td>...</td>\n",
       "      <td>...</td>\n",
       "      <td>...</td>\n",
       "      <td>...</td>\n",
       "      <td>...</td>\n",
       "      <td>...</td>\n",
       "      <td>...</td>\n",
       "      <td>...</td>\n",
       "      <td>...</td>\n",
       "    </tr>\n",
       "    <tr>\n",
       "      <th>1080</th>\n",
       "      <td>62020796</td>\n",
       "      <td>79539873</td>\n",
       "      <td>Other driver error</td>\n",
       "      <td>2018-09-06</td>\n",
       "      <td>Auto</td>\n",
       "      <td>Yes</td>\n",
       "      <td>Material only</td>\n",
       "      <td>1770.0</td>\n",
       "      <td>1.0</td>\n",
       "      <td>No</td>\n",
       "      <td>Female</td>\n",
       "      <td>1981-03-15</td>\n",
       "      <td>ND</td>\n",
       "      <td>459-425-4319</td>\n",
       "      <td>Platinum</td>\n",
       "    </tr>\n",
       "    <tr>\n",
       "      <th>1081</th>\n",
       "      <td>63269067</td>\n",
       "      <td>42364152</td>\n",
       "      <td>Other causes</td>\n",
       "      <td>2017-05-09</td>\n",
       "      <td>Home</td>\n",
       "      <td>No</td>\n",
       "      <td>Material only</td>\n",
       "      <td>2800.0</td>\n",
       "      <td>1.0</td>\n",
       "      <td>No</td>\n",
       "      <td>Female</td>\n",
       "      <td>1996-07-07</td>\n",
       "      <td>ID</td>\n",
       "      <td>529-462-1635</td>\n",
       "      <td>Silver</td>\n",
       "    </tr>\n",
       "    <tr>\n",
       "      <th>1082</th>\n",
       "      <td>22690595</td>\n",
       "      <td>19888166</td>\n",
       "      <td>Other driver error</td>\n",
       "      <td>2017-05-15</td>\n",
       "      <td>Auto</td>\n",
       "      <td>Yes</td>\n",
       "      <td>Injury only</td>\n",
       "      <td>33080.0</td>\n",
       "      <td>2.0</td>\n",
       "      <td>No</td>\n",
       "      <td>Male</td>\n",
       "      <td>1990-04-11</td>\n",
       "      <td>WI</td>\n",
       "      <td>712-651-9613</td>\n",
       "      <td>Gold</td>\n",
       "    </tr>\n",
       "    <tr>\n",
       "      <th>1083</th>\n",
       "      <td>12376894</td>\n",
       "      <td>11256802</td>\n",
       "      <td>Other driver error</td>\n",
       "      <td>2017-04-18</td>\n",
       "      <td>Auto</td>\n",
       "      <td>No</td>\n",
       "      <td>Material only</td>\n",
       "      <td>2840.0</td>\n",
       "      <td>4.0</td>\n",
       "      <td>No</td>\n",
       "      <td>Female</td>\n",
       "      <td>1964-10-22</td>\n",
       "      <td>LA</td>\n",
       "      <td>469-345-5617</td>\n",
       "      <td>Silver</td>\n",
       "    </tr>\n",
       "    <tr>\n",
       "      <th>1084</th>\n",
       "      <td>63226031</td>\n",
       "      <td>61575264</td>\n",
       "      <td>Natural causes</td>\n",
       "      <td>2017-03-16</td>\n",
       "      <td>Auto</td>\n",
       "      <td>No</td>\n",
       "      <td>Material only</td>\n",
       "      <td>1490.0</td>\n",
       "      <td>1.0</td>\n",
       "      <td>No</td>\n",
       "      <td>Male</td>\n",
       "      <td>1995-07-12</td>\n",
       "      <td>WY</td>\n",
       "      <td>182-385-1392</td>\n",
       "      <td>Gold</td>\n",
       "    </tr>\n",
       "  </tbody>\n",
       "</table>\n",
       "<p>1085 rows × 15 columns</p>\n",
       "</div>"
      ],
      "text/plain": [
       "      claim_id  customer_id      incident_cause claim_date claim_area  \\\n",
       "0     54004764     21868593        Driver error 2017-11-27       Auto   \n",
       "1     33985796     75740424               Crime 2018-10-03       Home   \n",
       "2     53522022     30308357  Other driver error 2018-02-02       Auto   \n",
       "3     63017412     30308357        Driver error 2018-04-04       Auto   \n",
       "4     13015401     47830476      Natural causes 2018-06-17       Auto   \n",
       "...        ...          ...                 ...        ...        ...   \n",
       "1080  62020796     79539873  Other driver error 2018-09-06       Auto   \n",
       "1081  63269067     42364152        Other causes 2017-05-09       Home   \n",
       "1082  22690595     19888166  Other driver error 2017-05-15       Auto   \n",
       "1083  12376894     11256802  Other driver error 2017-04-18       Auto   \n",
       "1084  63226031     61575264      Natural causes 2017-03-16       Auto   \n",
       "\n",
       "     police_report     claim_type  claim_amount  total_policy_claims  \\\n",
       "0               No  Material only        2980.0                  1.0   \n",
       "1          Unknown  Material only        2980.0                  3.0   \n",
       "2               No  Material only        3369.5                  1.0   \n",
       "3               No  Material only        1950.0                  6.0   \n",
       "4               No  Material only        1680.0                  1.0   \n",
       "...            ...            ...           ...                  ...   \n",
       "1080           Yes  Material only        1770.0                  1.0   \n",
       "1081            No  Material only        2800.0                  1.0   \n",
       "1082           Yes    Injury only       33080.0                  2.0   \n",
       "1083            No  Material only        2840.0                  4.0   \n",
       "1084            No  Material only        1490.0                  1.0   \n",
       "\n",
       "     fraudulent  gender DateOfBirth State       Contact   Segment  \n",
       "0            No  Female  1979-01-12    VT  789-916-8172  Platinum  \n",
       "1            No  Female  1970-01-13    ME  265-543-1264    Silver  \n",
       "2           Yes  Female  1984-03-11    TN  798-631-4758    Silver  \n",
       "3            No  Female  1984-03-11    TN  798-631-4758    Silver  \n",
       "4            No  Female  1986-05-01    MA  413-187-7945    Silver  \n",
       "...         ...     ...         ...   ...           ...       ...  \n",
       "1080         No  Female  1981-03-15    ND  459-425-4319  Platinum  \n",
       "1081         No  Female  1996-07-07    ID  529-462-1635    Silver  \n",
       "1082         No    Male  1990-04-11    WI  712-651-9613      Gold  \n",
       "1083         No  Female  1964-10-22    LA  469-345-5617    Silver  \n",
       "1084         No    Male  1995-07-12    WY  182-385-1392      Gold  \n",
       "\n",
       "[1085 rows x 15 columns]"
      ]
     },
     "execution_count": 11,
     "metadata": {},
     "output_type": "execute_result"
    }
   ],
   "source": [
    "data.claim_amount=data.claim_amount.str.replace('$',' ').apply(pd.to_numeric)\n",
    "data"
   ]
  },
  {
   "cell_type": "code",
   "execution_count": 12,
   "id": "e8d6a7d5",
   "metadata": {},
   "outputs": [
    {
     "data": {
      "text/plain": [
       "dtype('float64')"
      ]
     },
     "execution_count": 12,
     "metadata": {},
     "output_type": "execute_result"
    }
   ],
   "source": [
    "data.claim_amount.dtypes"
   ]
  },
  {
   "cell_type": "markdown",
   "id": "e57a5eb9",
   "metadata": {},
   "source": [
    "# 4. Of all the injury claims, some of them have gone unreported with the police. Create an alert flag (1,0) for all such claims."
   ]
  },
  {
   "cell_type": "code",
   "execution_count": 13,
   "id": "6cf2efac",
   "metadata": {},
   "outputs": [
    {
     "data": {
      "text/plain": [
       "No         621\n",
       "Unknown    296\n",
       "Yes        168\n",
       "Name: police_report, dtype: int64"
      ]
     },
     "execution_count": 13,
     "metadata": {},
     "output_type": "execute_result"
    }
   ],
   "source": [
    "data.police_report.value_counts()"
   ]
  },
  {
   "cell_type": "code",
   "execution_count": 14,
   "id": "be7b33f9",
   "metadata": {},
   "outputs": [
    {
     "data": {
      "text/html": [
       "<div>\n",
       "<style scoped>\n",
       "    .dataframe tbody tr th:only-of-type {\n",
       "        vertical-align: middle;\n",
       "    }\n",
       "\n",
       "    .dataframe tbody tr th {\n",
       "        vertical-align: top;\n",
       "    }\n",
       "\n",
       "    .dataframe thead th {\n",
       "        text-align: right;\n",
       "    }\n",
       "</style>\n",
       "<table border=\"1\" class=\"dataframe\">\n",
       "  <thead>\n",
       "    <tr style=\"text-align: right;\">\n",
       "      <th></th>\n",
       "      <th>claim_id</th>\n",
       "      <th>customer_id</th>\n",
       "      <th>incident_cause</th>\n",
       "      <th>claim_date</th>\n",
       "      <th>claim_area</th>\n",
       "      <th>police_report</th>\n",
       "      <th>claim_type</th>\n",
       "      <th>claim_amount</th>\n",
       "      <th>total_policy_claims</th>\n",
       "      <th>fraudulent</th>\n",
       "      <th>gender</th>\n",
       "      <th>DateOfBirth</th>\n",
       "      <th>State</th>\n",
       "      <th>Contact</th>\n",
       "      <th>Segment</th>\n",
       "      <th>alert flag</th>\n",
       "    </tr>\n",
       "  </thead>\n",
       "  <tbody>\n",
       "    <tr>\n",
       "      <th>0</th>\n",
       "      <td>54004764</td>\n",
       "      <td>21868593</td>\n",
       "      <td>Driver error</td>\n",
       "      <td>2017-11-27</td>\n",
       "      <td>Auto</td>\n",
       "      <td>No</td>\n",
       "      <td>Material only</td>\n",
       "      <td>2980.0</td>\n",
       "      <td>1.0</td>\n",
       "      <td>No</td>\n",
       "      <td>Female</td>\n",
       "      <td>1979-01-12</td>\n",
       "      <td>VT</td>\n",
       "      <td>789-916-8172</td>\n",
       "      <td>Platinum</td>\n",
       "      <td>0</td>\n",
       "    </tr>\n",
       "    <tr>\n",
       "      <th>1</th>\n",
       "      <td>33985796</td>\n",
       "      <td>75740424</td>\n",
       "      <td>Crime</td>\n",
       "      <td>2018-10-03</td>\n",
       "      <td>Home</td>\n",
       "      <td>Unknown</td>\n",
       "      <td>Material only</td>\n",
       "      <td>2980.0</td>\n",
       "      <td>3.0</td>\n",
       "      <td>No</td>\n",
       "      <td>Female</td>\n",
       "      <td>1970-01-13</td>\n",
       "      <td>ME</td>\n",
       "      <td>265-543-1264</td>\n",
       "      <td>Silver</td>\n",
       "      <td>nan</td>\n",
       "    </tr>\n",
       "    <tr>\n",
       "      <th>2</th>\n",
       "      <td>53522022</td>\n",
       "      <td>30308357</td>\n",
       "      <td>Other driver error</td>\n",
       "      <td>2018-02-02</td>\n",
       "      <td>Auto</td>\n",
       "      <td>No</td>\n",
       "      <td>Material only</td>\n",
       "      <td>3369.5</td>\n",
       "      <td>1.0</td>\n",
       "      <td>Yes</td>\n",
       "      <td>Female</td>\n",
       "      <td>1984-03-11</td>\n",
       "      <td>TN</td>\n",
       "      <td>798-631-4758</td>\n",
       "      <td>Silver</td>\n",
       "      <td>0</td>\n",
       "    </tr>\n",
       "    <tr>\n",
       "      <th>3</th>\n",
       "      <td>63017412</td>\n",
       "      <td>30308357</td>\n",
       "      <td>Driver error</td>\n",
       "      <td>2018-04-04</td>\n",
       "      <td>Auto</td>\n",
       "      <td>No</td>\n",
       "      <td>Material only</td>\n",
       "      <td>1950.0</td>\n",
       "      <td>6.0</td>\n",
       "      <td>No</td>\n",
       "      <td>Female</td>\n",
       "      <td>1984-03-11</td>\n",
       "      <td>TN</td>\n",
       "      <td>798-631-4758</td>\n",
       "      <td>Silver</td>\n",
       "      <td>0</td>\n",
       "    </tr>\n",
       "    <tr>\n",
       "      <th>4</th>\n",
       "      <td>13015401</td>\n",
       "      <td>47830476</td>\n",
       "      <td>Natural causes</td>\n",
       "      <td>2018-06-17</td>\n",
       "      <td>Auto</td>\n",
       "      <td>No</td>\n",
       "      <td>Material only</td>\n",
       "      <td>1680.0</td>\n",
       "      <td>1.0</td>\n",
       "      <td>No</td>\n",
       "      <td>Female</td>\n",
       "      <td>1986-05-01</td>\n",
       "      <td>MA</td>\n",
       "      <td>413-187-7945</td>\n",
       "      <td>Silver</td>\n",
       "      <td>0</td>\n",
       "    </tr>\n",
       "    <tr>\n",
       "      <th>...</th>\n",
       "      <td>...</td>\n",
       "      <td>...</td>\n",
       "      <td>...</td>\n",
       "      <td>...</td>\n",
       "      <td>...</td>\n",
       "      <td>...</td>\n",
       "      <td>...</td>\n",
       "      <td>...</td>\n",
       "      <td>...</td>\n",
       "      <td>...</td>\n",
       "      <td>...</td>\n",
       "      <td>...</td>\n",
       "      <td>...</td>\n",
       "      <td>...</td>\n",
       "      <td>...</td>\n",
       "      <td>...</td>\n",
       "    </tr>\n",
       "    <tr>\n",
       "      <th>1080</th>\n",
       "      <td>62020796</td>\n",
       "      <td>79539873</td>\n",
       "      <td>Other driver error</td>\n",
       "      <td>2018-09-06</td>\n",
       "      <td>Auto</td>\n",
       "      <td>Yes</td>\n",
       "      <td>Material only</td>\n",
       "      <td>1770.0</td>\n",
       "      <td>1.0</td>\n",
       "      <td>No</td>\n",
       "      <td>Female</td>\n",
       "      <td>1981-03-15</td>\n",
       "      <td>ND</td>\n",
       "      <td>459-425-4319</td>\n",
       "      <td>Platinum</td>\n",
       "      <td>1</td>\n",
       "    </tr>\n",
       "    <tr>\n",
       "      <th>1081</th>\n",
       "      <td>63269067</td>\n",
       "      <td>42364152</td>\n",
       "      <td>Other causes</td>\n",
       "      <td>2017-05-09</td>\n",
       "      <td>Home</td>\n",
       "      <td>No</td>\n",
       "      <td>Material only</td>\n",
       "      <td>2800.0</td>\n",
       "      <td>1.0</td>\n",
       "      <td>No</td>\n",
       "      <td>Female</td>\n",
       "      <td>1996-07-07</td>\n",
       "      <td>ID</td>\n",
       "      <td>529-462-1635</td>\n",
       "      <td>Silver</td>\n",
       "      <td>0</td>\n",
       "    </tr>\n",
       "    <tr>\n",
       "      <th>1082</th>\n",
       "      <td>22690595</td>\n",
       "      <td>19888166</td>\n",
       "      <td>Other driver error</td>\n",
       "      <td>2017-05-15</td>\n",
       "      <td>Auto</td>\n",
       "      <td>Yes</td>\n",
       "      <td>Injury only</td>\n",
       "      <td>33080.0</td>\n",
       "      <td>2.0</td>\n",
       "      <td>No</td>\n",
       "      <td>Male</td>\n",
       "      <td>1990-04-11</td>\n",
       "      <td>WI</td>\n",
       "      <td>712-651-9613</td>\n",
       "      <td>Gold</td>\n",
       "      <td>1</td>\n",
       "    </tr>\n",
       "    <tr>\n",
       "      <th>1083</th>\n",
       "      <td>12376894</td>\n",
       "      <td>11256802</td>\n",
       "      <td>Other driver error</td>\n",
       "      <td>2017-04-18</td>\n",
       "      <td>Auto</td>\n",
       "      <td>No</td>\n",
       "      <td>Material only</td>\n",
       "      <td>2840.0</td>\n",
       "      <td>4.0</td>\n",
       "      <td>No</td>\n",
       "      <td>Female</td>\n",
       "      <td>1964-10-22</td>\n",
       "      <td>LA</td>\n",
       "      <td>469-345-5617</td>\n",
       "      <td>Silver</td>\n",
       "      <td>0</td>\n",
       "    </tr>\n",
       "    <tr>\n",
       "      <th>1084</th>\n",
       "      <td>63226031</td>\n",
       "      <td>61575264</td>\n",
       "      <td>Natural causes</td>\n",
       "      <td>2017-03-16</td>\n",
       "      <td>Auto</td>\n",
       "      <td>No</td>\n",
       "      <td>Material only</td>\n",
       "      <td>1490.0</td>\n",
       "      <td>1.0</td>\n",
       "      <td>No</td>\n",
       "      <td>Male</td>\n",
       "      <td>1995-07-12</td>\n",
       "      <td>WY</td>\n",
       "      <td>182-385-1392</td>\n",
       "      <td>Gold</td>\n",
       "      <td>0</td>\n",
       "    </tr>\n",
       "  </tbody>\n",
       "</table>\n",
       "<p>1085 rows × 16 columns</p>\n",
       "</div>"
      ],
      "text/plain": [
       "      claim_id  customer_id      incident_cause claim_date claim_area  \\\n",
       "0     54004764     21868593        Driver error 2017-11-27       Auto   \n",
       "1     33985796     75740424               Crime 2018-10-03       Home   \n",
       "2     53522022     30308357  Other driver error 2018-02-02       Auto   \n",
       "3     63017412     30308357        Driver error 2018-04-04       Auto   \n",
       "4     13015401     47830476      Natural causes 2018-06-17       Auto   \n",
       "...        ...          ...                 ...        ...        ...   \n",
       "1080  62020796     79539873  Other driver error 2018-09-06       Auto   \n",
       "1081  63269067     42364152        Other causes 2017-05-09       Home   \n",
       "1082  22690595     19888166  Other driver error 2017-05-15       Auto   \n",
       "1083  12376894     11256802  Other driver error 2017-04-18       Auto   \n",
       "1084  63226031     61575264      Natural causes 2017-03-16       Auto   \n",
       "\n",
       "     police_report     claim_type  claim_amount  total_policy_claims  \\\n",
       "0               No  Material only        2980.0                  1.0   \n",
       "1          Unknown  Material only        2980.0                  3.0   \n",
       "2               No  Material only        3369.5                  1.0   \n",
       "3               No  Material only        1950.0                  6.0   \n",
       "4               No  Material only        1680.0                  1.0   \n",
       "...            ...            ...           ...                  ...   \n",
       "1080           Yes  Material only        1770.0                  1.0   \n",
       "1081            No  Material only        2800.0                  1.0   \n",
       "1082           Yes    Injury only       33080.0                  2.0   \n",
       "1083            No  Material only        2840.0                  4.0   \n",
       "1084            No  Material only        1490.0                  1.0   \n",
       "\n",
       "     fraudulent  gender DateOfBirth State       Contact   Segment alert flag  \n",
       "0            No  Female  1979-01-12    VT  789-916-8172  Platinum          0  \n",
       "1            No  Female  1970-01-13    ME  265-543-1264    Silver        nan  \n",
       "2           Yes  Female  1984-03-11    TN  798-631-4758    Silver          0  \n",
       "3            No  Female  1984-03-11    TN  798-631-4758    Silver          0  \n",
       "4            No  Female  1986-05-01    MA  413-187-7945    Silver          0  \n",
       "...         ...     ...         ...   ...           ...       ...        ...  \n",
       "1080         No  Female  1981-03-15    ND  459-425-4319  Platinum          1  \n",
       "1081         No  Female  1996-07-07    ID  529-462-1635    Silver          0  \n",
       "1082         No    Male  1990-04-11    WI  712-651-9613      Gold          1  \n",
       "1083         No  Female  1964-10-22    LA  469-345-5617    Silver          0  \n",
       "1084         No    Male  1995-07-12    WY  182-385-1392      Gold          0  \n",
       "\n",
       "[1085 rows x 16 columns]"
      ]
     },
     "execution_count": 14,
     "metadata": {},
     "output_type": "execute_result"
    }
   ],
   "source": [
    "data['alert flag']=np.where(data.police_report=='Yes','1',(np.where(data.police_report=='No','0',np.nan)))\n",
    "data"
   ]
  },
  {
   "cell_type": "markdown",
   "id": "02eb906c",
   "metadata": {},
   "source": [
    "## 5. One customer can claim for insurance more than once and in each claim, multiple categories of claims can be involved. However, customer ID should remain unique.\n",
    "## Retain the most recent observation and delete any duplicated records in the data based on the customer ID column."
   ]
  },
  {
   "cell_type": "code",
   "execution_count": 15,
   "id": "c22f8f42",
   "metadata": {},
   "outputs": [
    {
     "data": {
      "text/html": [
       "<div>\n",
       "<style scoped>\n",
       "    .dataframe tbody tr th:only-of-type {\n",
       "        vertical-align: middle;\n",
       "    }\n",
       "\n",
       "    .dataframe tbody tr th {\n",
       "        vertical-align: top;\n",
       "    }\n",
       "\n",
       "    .dataframe thead th {\n",
       "        text-align: right;\n",
       "    }\n",
       "</style>\n",
       "<table border=\"1\" class=\"dataframe\">\n",
       "  <thead>\n",
       "    <tr style=\"text-align: right;\">\n",
       "      <th></th>\n",
       "      <th>claim_id</th>\n",
       "      <th>incident_cause</th>\n",
       "      <th>claim_date</th>\n",
       "      <th>claim_area</th>\n",
       "      <th>police_report</th>\n",
       "      <th>claim_type</th>\n",
       "      <th>claim_amount</th>\n",
       "      <th>total_policy_claims</th>\n",
       "      <th>fraudulent</th>\n",
       "      <th>gender</th>\n",
       "      <th>DateOfBirth</th>\n",
       "      <th>State</th>\n",
       "      <th>Contact</th>\n",
       "      <th>Segment</th>\n",
       "      <th>alert flag</th>\n",
       "    </tr>\n",
       "    <tr>\n",
       "      <th>customer_id</th>\n",
       "      <th></th>\n",
       "      <th></th>\n",
       "      <th></th>\n",
       "      <th></th>\n",
       "      <th></th>\n",
       "      <th></th>\n",
       "      <th></th>\n",
       "      <th></th>\n",
       "      <th></th>\n",
       "      <th></th>\n",
       "      <th></th>\n",
       "      <th></th>\n",
       "      <th></th>\n",
       "      <th></th>\n",
       "      <th></th>\n",
       "    </tr>\n",
       "  </thead>\n",
       "  <tbody>\n",
       "    <tr>\n",
       "      <th>154557</th>\n",
       "      <td>69348631</td>\n",
       "      <td>Driver error</td>\n",
       "      <td>2018-04-10</td>\n",
       "      <td>Auto</td>\n",
       "      <td>No</td>\n",
       "      <td>Injury only</td>\n",
       "      <td>NaN</td>\n",
       "      <td>1.0</td>\n",
       "      <td>Yes</td>\n",
       "      <td>Female</td>\n",
       "      <td>1978-05-23</td>\n",
       "      <td>DE</td>\n",
       "      <td>962-879-1238</td>\n",
       "      <td>Platinum</td>\n",
       "      <td>0</td>\n",
       "    </tr>\n",
       "    <tr>\n",
       "      <th>263204</th>\n",
       "      <td>40953049</td>\n",
       "      <td>Other causes</td>\n",
       "      <td>2018-04-04</td>\n",
       "      <td>Auto</td>\n",
       "      <td>No</td>\n",
       "      <td>Material and injury</td>\n",
       "      <td>39192.0</td>\n",
       "      <td>1.0</td>\n",
       "      <td>Yes</td>\n",
       "      <td>Male</td>\n",
       "      <td>1972-12-20</td>\n",
       "      <td>TX</td>\n",
       "      <td>173-892-6314</td>\n",
       "      <td>Silver</td>\n",
       "      <td>0</td>\n",
       "    </tr>\n",
       "    <tr>\n",
       "      <th>287476</th>\n",
       "      <td>45780237</td>\n",
       "      <td>Natural causes</td>\n",
       "      <td>2017-10-17</td>\n",
       "      <td>Auto</td>\n",
       "      <td>Unknown</td>\n",
       "      <td>Material only</td>\n",
       "      <td>1621.5</td>\n",
       "      <td>2.0</td>\n",
       "      <td>Yes</td>\n",
       "      <td>Male</td>\n",
       "      <td>1988-07-28</td>\n",
       "      <td>FL</td>\n",
       "      <td>364-598-1549</td>\n",
       "      <td>Silver</td>\n",
       "      <td>nan</td>\n",
       "    </tr>\n",
       "    <tr>\n",
       "      <th>441097</th>\n",
       "      <td>89833962</td>\n",
       "      <td>Other causes</td>\n",
       "      <td>2018-03-21</td>\n",
       "      <td>Auto</td>\n",
       "      <td>Yes</td>\n",
       "      <td>Material and injury</td>\n",
       "      <td>37040.0</td>\n",
       "      <td>1.0</td>\n",
       "      <td>No</td>\n",
       "      <td>Male</td>\n",
       "      <td>1971-08-19</td>\n",
       "      <td>CA</td>\n",
       "      <td>187-348-8375</td>\n",
       "      <td>Gold</td>\n",
       "      <td>1</td>\n",
       "    </tr>\n",
       "    <tr>\n",
       "      <th>524545</th>\n",
       "      <td>35782742</td>\n",
       "      <td>Other driver error</td>\n",
       "      <td>2018-07-27</td>\n",
       "      <td>Auto</td>\n",
       "      <td>No</td>\n",
       "      <td>Injury only</td>\n",
       "      <td>35250.0</td>\n",
       "      <td>3.0</td>\n",
       "      <td>No</td>\n",
       "      <td>Female</td>\n",
       "      <td>1980-08-10</td>\n",
       "      <td>NC</td>\n",
       "      <td>798-862-5398</td>\n",
       "      <td>Gold</td>\n",
       "      <td>0</td>\n",
       "    </tr>\n",
       "    <tr>\n",
       "      <th>...</th>\n",
       "      <td>...</td>\n",
       "      <td>...</td>\n",
       "      <td>...</td>\n",
       "      <td>...</td>\n",
       "      <td>...</td>\n",
       "      <td>...</td>\n",
       "      <td>...</td>\n",
       "      <td>...</td>\n",
       "      <td>...</td>\n",
       "      <td>...</td>\n",
       "      <td>...</td>\n",
       "      <td>...</td>\n",
       "      <td>...</td>\n",
       "      <td>...</td>\n",
       "      <td>...</td>\n",
       "    </tr>\n",
       "    <tr>\n",
       "      <th>99674324</th>\n",
       "      <td>4549014</td>\n",
       "      <td>Other causes</td>\n",
       "      <td>2018-07-07</td>\n",
       "      <td>Auto</td>\n",
       "      <td>No</td>\n",
       "      <td>Injury only</td>\n",
       "      <td>21480.0</td>\n",
       "      <td>1.0</td>\n",
       "      <td>No</td>\n",
       "      <td>Male</td>\n",
       "      <td>1965-01-28</td>\n",
       "      <td>UT</td>\n",
       "      <td>517-562-4916</td>\n",
       "      <td>Silver</td>\n",
       "      <td>0</td>\n",
       "    </tr>\n",
       "    <tr>\n",
       "      <th>99723844</th>\n",
       "      <td>35453672</td>\n",
       "      <td>Natural causes</td>\n",
       "      <td>2018-01-06</td>\n",
       "      <td>Auto</td>\n",
       "      <td>Yes</td>\n",
       "      <td>Material and injury</td>\n",
       "      <td>14360.0</td>\n",
       "      <td>1.0</td>\n",
       "      <td>No</td>\n",
       "      <td>Female</td>\n",
       "      <td>1966-06-19</td>\n",
       "      <td>HI</td>\n",
       "      <td>457-752-1374</td>\n",
       "      <td>Gold</td>\n",
       "      <td>1</td>\n",
       "    </tr>\n",
       "    <tr>\n",
       "      <th>99761663</th>\n",
       "      <td>37305754</td>\n",
       "      <td>Natural causes</td>\n",
       "      <td>2018-04-04</td>\n",
       "      <td>Auto</td>\n",
       "      <td>No</td>\n",
       "      <td>Material only</td>\n",
       "      <td>1242.0</td>\n",
       "      <td>1.0</td>\n",
       "      <td>Yes</td>\n",
       "      <td>Female</td>\n",
       "      <td>1963-11-18</td>\n",
       "      <td>NC</td>\n",
       "      <td>643-246-4718</td>\n",
       "      <td>Silver</td>\n",
       "      <td>0</td>\n",
       "    </tr>\n",
       "    <tr>\n",
       "      <th>99892000</th>\n",
       "      <td>22960702</td>\n",
       "      <td>Driver error</td>\n",
       "      <td>2017-11-13</td>\n",
       "      <td>Auto</td>\n",
       "      <td>No</td>\n",
       "      <td>Material only</td>\n",
       "      <td>2415.0</td>\n",
       "      <td>2.0</td>\n",
       "      <td>Yes</td>\n",
       "      <td>Male</td>\n",
       "      <td>1995-06-08</td>\n",
       "      <td>OR</td>\n",
       "      <td>395-246-6172</td>\n",
       "      <td>Gold</td>\n",
       "      <td>0</td>\n",
       "    </tr>\n",
       "    <tr>\n",
       "      <th>99961993</th>\n",
       "      <td>47262068</td>\n",
       "      <td>Driver error</td>\n",
       "      <td>2018-10-23</td>\n",
       "      <td>Home</td>\n",
       "      <td>No</td>\n",
       "      <td>Material only</td>\n",
       "      <td>2310.0</td>\n",
       "      <td>1.0</td>\n",
       "      <td>No</td>\n",
       "      <td>Male</td>\n",
       "      <td>1995-06-10</td>\n",
       "      <td>AL</td>\n",
       "      <td>234-943-2876</td>\n",
       "      <td>Platinum</td>\n",
       "      <td>0</td>\n",
       "    </tr>\n",
       "  </tbody>\n",
       "</table>\n",
       "<p>1078 rows × 15 columns</p>\n",
       "</div>"
      ],
      "text/plain": [
       "             claim_id      incident_cause claim_date claim_area police_report  \\\n",
       "customer_id                                                                     \n",
       "154557       69348631        Driver error 2018-04-10       Auto            No   \n",
       "263204       40953049        Other causes 2018-04-04       Auto            No   \n",
       "287476       45780237      Natural causes 2017-10-17       Auto       Unknown   \n",
       "441097       89833962        Other causes 2018-03-21       Auto           Yes   \n",
       "524545       35782742  Other driver error 2018-07-27       Auto            No   \n",
       "...               ...                 ...        ...        ...           ...   \n",
       "99674324      4549014        Other causes 2018-07-07       Auto            No   \n",
       "99723844     35453672      Natural causes 2018-01-06       Auto           Yes   \n",
       "99761663     37305754      Natural causes 2018-04-04       Auto            No   \n",
       "99892000     22960702        Driver error 2017-11-13       Auto            No   \n",
       "99961993     47262068        Driver error 2018-10-23       Home            No   \n",
       "\n",
       "                      claim_type  claim_amount  total_policy_claims  \\\n",
       "customer_id                                                           \n",
       "154557               Injury only           NaN                  1.0   \n",
       "263204       Material and injury       39192.0                  1.0   \n",
       "287476             Material only        1621.5                  2.0   \n",
       "441097       Material and injury       37040.0                  1.0   \n",
       "524545               Injury only       35250.0                  3.0   \n",
       "...                          ...           ...                  ...   \n",
       "99674324             Injury only       21480.0                  1.0   \n",
       "99723844     Material and injury       14360.0                  1.0   \n",
       "99761663           Material only        1242.0                  1.0   \n",
       "99892000           Material only        2415.0                  2.0   \n",
       "99961993           Material only        2310.0                  1.0   \n",
       "\n",
       "            fraudulent  gender DateOfBirth State       Contact   Segment  \\\n",
       "customer_id                                                                \n",
       "154557             Yes  Female  1978-05-23    DE  962-879-1238  Platinum   \n",
       "263204             Yes    Male  1972-12-20    TX  173-892-6314    Silver   \n",
       "287476             Yes    Male  1988-07-28    FL  364-598-1549    Silver   \n",
       "441097              No    Male  1971-08-19    CA  187-348-8375      Gold   \n",
       "524545              No  Female  1980-08-10    NC  798-862-5398      Gold   \n",
       "...                ...     ...         ...   ...           ...       ...   \n",
       "99674324            No    Male  1965-01-28    UT  517-562-4916    Silver   \n",
       "99723844            No  Female  1966-06-19    HI  457-752-1374      Gold   \n",
       "99761663           Yes  Female  1963-11-18    NC  643-246-4718    Silver   \n",
       "99892000           Yes    Male  1995-06-08    OR  395-246-6172      Gold   \n",
       "99961993            No    Male  1995-06-10    AL  234-943-2876  Platinum   \n",
       "\n",
       "            alert flag  \n",
       "customer_id             \n",
       "154557               0  \n",
       "263204               0  \n",
       "287476             nan  \n",
       "441097               1  \n",
       "524545               0  \n",
       "...                ...  \n",
       "99674324             0  \n",
       "99723844             1  \n",
       "99761663             0  \n",
       "99892000             0  \n",
       "99961993             0  \n",
       "\n",
       "[1078 rows x 15 columns]"
      ]
     },
     "execution_count": 15,
     "metadata": {},
     "output_type": "execute_result"
    }
   ],
   "source": [
    "(data.sort_values(by='claim_date')).groupby(['customer_id']).last()"
   ]
  },
  {
   "cell_type": "markdown",
   "id": "877ac970",
   "metadata": {},
   "source": [
    "# 6. Check for missing values and impute the missing values with an appropriate value. (mean for continuous and mode for categorical)"
   ]
  },
  {
   "cell_type": "code",
   "execution_count": 16,
   "id": "a85f68fa",
   "metadata": {},
   "outputs": [
    {
     "data": {
      "text/plain": [
       "claim_id                0\n",
       "customer_id             0\n",
       "incident_cause          0\n",
       "claim_date              0\n",
       "claim_area              0\n",
       "police_report           0\n",
       "claim_type              0\n",
       "claim_amount           65\n",
       "total_policy_claims    10\n",
       "fraudulent              0\n",
       "gender                  0\n",
       "DateOfBirth             0\n",
       "State                   0\n",
       "Contact                 0\n",
       "Segment                 0\n",
       "alert flag              0\n",
       "dtype: int64"
      ]
     },
     "execution_count": 16,
     "metadata": {},
     "output_type": "execute_result"
    }
   ],
   "source": [
    "data.isna().sum()"
   ]
  },
  {
   "cell_type": "code",
   "execution_count": 17,
   "id": "0c2a5bdd",
   "metadata": {},
   "outputs": [],
   "source": [
    "data.claim_amount=data.claim_amount.fillna(data.claim_amount.median())\n",
    "data.total_policy_claims=data.total_policy_claims.fillna(data.total_policy_claims.median())"
   ]
  },
  {
   "cell_type": "code",
   "execution_count": 18,
   "id": "45c17529",
   "metadata": {},
   "outputs": [
    {
     "data": {
      "text/plain": [
       "claim_id               0\n",
       "customer_id            0\n",
       "incident_cause         0\n",
       "claim_date             0\n",
       "claim_area             0\n",
       "police_report          0\n",
       "claim_type             0\n",
       "claim_amount           0\n",
       "total_policy_claims    0\n",
       "fraudulent             0\n",
       "gender                 0\n",
       "DateOfBirth            0\n",
       "State                  0\n",
       "Contact                0\n",
       "Segment                0\n",
       "alert flag             0\n",
       "dtype: int64"
      ]
     },
     "execution_count": 18,
     "metadata": {},
     "output_type": "execute_result"
    }
   ],
   "source": [
    "data.isna().sum()"
   ]
  },
  {
   "cell_type": "markdown",
   "id": "1dc6377f",
   "metadata": {},
   "source": [
    "# 7. Calculate the age of customers in years. Based on the age, categorize the\n",
    "### customers according to the below criteria\n",
    "### Children < 18             \n",
    "### Youth 18-30             \n",
    "### Adult 30-60                 \n",
    "### Senior > 60"
   ]
  },
  {
   "cell_type": "code",
   "execution_count": 19,
   "id": "0b5aedd9",
   "metadata": {},
   "outputs": [],
   "source": [
    "data['Age']=((data.claim_date-data.DateOfBirth)/np.timedelta64(1,'Y')).round()\n",
    "data['Category']=np.where(data.Age>60,'Senior',np.where(data.Age>30,'Adult',np.where(data.Age>18,'Youth','Children')))\n"
   ]
  },
  {
   "cell_type": "markdown",
   "id": "a91cfc6b",
   "metadata": {},
   "source": [
    "# 8. What is the average amount claimed by the customers from various segments?"
   ]
  },
  {
   "cell_type": "code",
   "execution_count": 20,
   "id": "157f2c23",
   "metadata": {},
   "outputs": [
    {
     "data": {
      "text/html": [
       "<div>\n",
       "<style scoped>\n",
       "    .dataframe tbody tr th:only-of-type {\n",
       "        vertical-align: middle;\n",
       "    }\n",
       "\n",
       "    .dataframe tbody tr th {\n",
       "        vertical-align: top;\n",
       "    }\n",
       "\n",
       "    .dataframe thead th {\n",
       "        text-align: right;\n",
       "    }\n",
       "</style>\n",
       "<table border=\"1\" class=\"dataframe\">\n",
       "  <thead>\n",
       "    <tr style=\"text-align: right;\">\n",
       "      <th></th>\n",
       "      <th>claim_amount</th>\n",
       "    </tr>\n",
       "    <tr>\n",
       "      <th>Segment</th>\n",
       "      <th></th>\n",
       "    </tr>\n",
       "  </thead>\n",
       "  <tbody>\n",
       "    <tr>\n",
       "      <th>Gold</th>\n",
       "      <td>12258.941333</td>\n",
       "    </tr>\n",
       "    <tr>\n",
       "      <th>Platinum</th>\n",
       "      <td>11938.871547</td>\n",
       "    </tr>\n",
       "    <tr>\n",
       "      <th>Silver</th>\n",
       "      <td>11425.748563</td>\n",
       "    </tr>\n",
       "  </tbody>\n",
       "</table>\n",
       "</div>"
      ],
      "text/plain": [
       "          claim_amount\n",
       "Segment               \n",
       "Gold      12258.941333\n",
       "Platinum  11938.871547\n",
       "Silver    11425.748563"
      ]
     },
     "execution_count": 20,
     "metadata": {},
     "output_type": "execute_result"
    }
   ],
   "source": [
    "data.groupby('Segment')[['claim_amount']].mean()"
   ]
  },
  {
   "cell_type": "markdown",
   "id": "1d68909d",
   "metadata": {},
   "source": [
    "# 9. What is the total claim amount based on incident cause for all the claims that have been done at least 20 days prior to 1st of October, 2018."
   ]
  },
  {
   "cell_type": "code",
   "execution_count": 21,
   "id": "03974360",
   "metadata": {},
   "outputs": [
    {
     "data": {
      "text/plain": [
       "datetime.datetime(2018, 9, 11, 0, 0)"
      ]
     },
     "execution_count": 21,
     "metadata": {},
     "output_type": "execute_result"
    }
   ],
   "source": [
    "dt.datetime(2018,10,1)-dt.timedelta(days=20)"
   ]
  },
  {
   "cell_type": "code",
   "execution_count": 22,
   "id": "59512ff7",
   "metadata": {},
   "outputs": [
    {
     "data": {
      "text/plain": [
       "11838070.5"
      ]
     },
     "execution_count": 22,
     "metadata": {},
     "output_type": "execute_result"
    }
   ],
   "source": [
    "data.query('claim_date <= \"2018-09-11\"').claim_amount.sum()"
   ]
  },
  {
   "cell_type": "markdown",
   "id": "009526a3",
   "metadata": {},
   "source": [
    "# 10. How many adults from TX, DE and AK claimed insurance for driver related issues and causes?"
   ]
  },
  {
   "cell_type": "code",
   "execution_count": 23,
   "id": "bce12c59",
   "metadata": {},
   "outputs": [
    {
     "data": {
      "text/html": [
       "<div>\n",
       "<style scoped>\n",
       "    .dataframe tbody tr th:only-of-type {\n",
       "        vertical-align: middle;\n",
       "    }\n",
       "\n",
       "    .dataframe tbody tr th {\n",
       "        vertical-align: top;\n",
       "    }\n",
       "\n",
       "    .dataframe thead th {\n",
       "        text-align: right;\n",
       "    }\n",
       "</style>\n",
       "<table border=\"1\" class=\"dataframe\">\n",
       "  <thead>\n",
       "    <tr style=\"text-align: right;\">\n",
       "      <th></th>\n",
       "      <th>Category</th>\n",
       "    </tr>\n",
       "    <tr>\n",
       "      <th>State</th>\n",
       "      <th></th>\n",
       "    </tr>\n",
       "  </thead>\n",
       "  <tbody>\n",
       "    <tr>\n",
       "      <th>AK</th>\n",
       "      <td>13</td>\n",
       "    </tr>\n",
       "    <tr>\n",
       "      <th>DE</th>\n",
       "      <td>15</td>\n",
       "    </tr>\n",
       "    <tr>\n",
       "      <th>TX</th>\n",
       "      <td>15</td>\n",
       "    </tr>\n",
       "  </tbody>\n",
       "</table>\n",
       "</div>"
      ],
      "text/plain": [
       "       Category\n",
       "State          \n",
       "AK           13\n",
       "DE           15\n",
       "TX           15"
      ]
     },
     "execution_count": 23,
     "metadata": {},
     "output_type": "execute_result"
    }
   ],
   "source": [
    "data.query('State in [\"TX\",\"DE\",\"AK\"] and Category==\"Adult\"').groupby('State')[['Category']].count()"
   ]
  },
  {
   "cell_type": "markdown",
   "id": "0b723d45",
   "metadata": {},
   "source": [
    "# 11. Draw a pie chart between the aggregated value of claim amount based on gender and segment. Represent the claim amount as a percentage on the pie chart."
   ]
  },
  {
   "cell_type": "code",
   "execution_count": 24,
   "id": "fdb437ec",
   "metadata": {},
   "outputs": [
    {
     "data": {
      "image/png": "[encoded data removed]",
      "text/plain": [
       "<Figure size 432x288 with 1 Axes>"
      ]
     },
     "metadata": {},
     "output_type": "display_data"
    }
   ],
   "source": [
    "a=data.groupby(['gender','Segment'])[['claim_amount']].sum()\n",
    "plt.pie(a.claim_amount,labels=a.index,autopct='%0.2f %%')\n",
    "plt.show()"
   ]
  },
  {
   "cell_type": "markdown",
   "id": "074f9392",
   "metadata": {},
   "source": [
    "# 12. Among males and females, which gender had claimed the most for any type of driver related issues? E.g. This metric can be compared using a bar chart"
   ]
  },
  {
   "cell_type": "code",
   "execution_count": 25,
   "id": "9a9c4e9a",
   "metadata": {},
   "outputs": [
    {
     "data": {
      "text/plain": [
       "Other causes          285\n",
       "Driver error          261\n",
       "Other driver error    245\n",
       "Natural causes        186\n",
       "Crime                 108\n",
       "Name: incident_cause, dtype: int64"
      ]
     },
     "execution_count": 25,
     "metadata": {},
     "output_type": "execute_result"
    }
   ],
   "source": [
    "data.incident_cause.value_counts()"
   ]
  },
  {
   "cell_type": "code",
   "execution_count": 26,
   "id": "94409d24",
   "metadata": {},
   "outputs": [
    {
     "data": {
      "image/png": "[encoded data removed]",
      "text/plain": [
       "<Figure size 432x288 with 1 Axes>"
      ]
     },
     "metadata": {},
     "output_type": "display_data"
    }
   ],
   "source": [
    "Q12=data.query(\"incident_cause in ['Driver error','Other driver error']\").groupby('gender')[['incident_cause']].count()\n",
    "plt.bar(Q12.index,Q12.incident_cause)\n",
    "plt.xlabel('Gender',fontsize=14)\n",
    "plt.ylabel('Number of Claims',fontsize=14)\n",
    "plt.show()\n"
   ]
  },
  {
   "cell_type": "markdown",
   "id": "6af8cba1",
   "metadata": {},
   "source": [
    "# 13. Which age group had the maximum fraudulent policy claims? Visualize it on a bar chart."
   ]
  },
  {
   "cell_type": "code",
   "execution_count": 27,
   "id": "5bf81817",
   "metadata": {},
   "outputs": [
    {
     "data": {
      "image/png": "[encoded data removed]",
      "text/plain": [
       "<Figure size 432x288 with 1 Axes>"
      ]
     },
     "metadata": {},
     "output_type": "display_data"
    }
   ],
   "source": [
    "Q13=data.query('fraudulent==\"Yes\"').groupby('Category')[['fraudulent']].count()\n",
    "plt.bar(Q13.index,Q13.fraudulent)\n",
    "plt.xlabel('Age Group',fontsize=14)\n",
    "plt.ylabel('Number of Claims',fontsize=14)\n",
    "plt.show()"
   ]
  },
  {
   "cell_type": "markdown",
   "id": "4a1050bd",
   "metadata": {},
   "source": [
    "# 14. Visualize the monthly trend of the total amount that has been claimed by the customers. Ensure that on the “month” axis, the month is in a chronological order not alphabetical order."
   ]
  },
  {
   "cell_type": "code",
   "execution_count": 28,
   "id": "dbbcc8a9",
   "metadata": {},
   "outputs": [
    {
     "data": {
      "image/png": "[encoded data removed]",
      "text/plain": [
       "<Figure size 972x360 with 1 Axes>"
      ]
     },
     "metadata": {},
     "output_type": "display_data"
    }
   ],
   "source": [
    "Q14=data.groupby(data.claim_date.dt.month_name())[['claim_amount']].sum().T\n",
    "Q14=Q14[['January','February','March','April','May','June','July','August','September','October','November','December']].T\n",
    "plt.figure(figsize=(13.5,5))\n",
    "plt.bar(Q14.index,Q14.claim_amount)\n",
    "plt.ticklabel_format(style='plain',axis='y')\n",
    "plt.xlabel('Months',fontsize=14)\n",
    "plt.ylabel('Number of Claims',fontsize=14)\n",
    "plt.show()"
   ]
  },
  {
   "cell_type": "markdown",
   "id": "336d9d78",
   "metadata": {},
   "source": [
    "# 15. What is the average claim amount for gender and age categories and suitably represent the above using a facetted bar chart, one facet that represents fraudulent claims and the other for non-fraudulent claims."
   ]
  },
  {
   "cell_type": "code",
   "execution_count": 29,
   "id": "b10b9ded",
   "metadata": {},
   "outputs": [
    {
     "data": {
      "image/png": "[encoded data removed]",
      "text/plain": [
       "<Figure size 432x216 with 2 Axes>"
      ]
     },
     "metadata": {},
     "output_type": "display_data"
    }
   ],
   "source": [
    "Q15=data.groupby(['fraudulent','gender','Category'])[['claim_amount']].sum().reset_index()\n",
    "Q15['gender_category']=Q15.gender+Q15.Category\n",
    "d=sns.FacetGrid(Q15,col='fraudulent')\n",
    "d.map(plt.barh,'gender_category','claim_amount')\n",
    "plt.show()\n"
   ]
  },
  {
   "cell_type": "markdown",
   "id": "139434a1",
   "metadata": {},
   "source": [
    "# Based on the conclusions from exploratory analysis as well as suitable statistical tests, answer the below questions. Please include a detailed write-up on the parameters taken into consideration, the Hypothesis testing steps, conclusion from the p-values and the business implications of the statements."
   ]
  },
  {
   "cell_type": "markdown",
   "id": "6055c539",
   "metadata": {},
   "source": [
    "## 16. Is there any similarity in the amount claimed by males and females?"
   ]
  },
  {
   "cell_type": "code",
   "execution_count": 30,
   "id": "70e1565a",
   "metadata": {},
   "outputs": [],
   "source": [
    "male=data.query('gender==\"Male\"').claim_amount\n",
    "female=data.query('gender==\"Female\"').claim_amount"
   ]
  },
  {
   "cell_type": "code",
   "execution_count": 31,
   "id": "6c4665f6",
   "metadata": {},
   "outputs": [
    {
     "data": {
      "text/plain": [
       "12223.208633093525"
      ]
     },
     "execution_count": 31,
     "metadata": {},
     "output_type": "execute_result"
    }
   ],
   "source": [
    "male.mean()"
   ]
  },
  {
   "cell_type": "code",
   "execution_count": 32,
   "id": "97ad8c2f",
   "metadata": {},
   "outputs": [
    {
     "data": {
      "text/plain": [
       "11529.359168241966"
      ]
     },
     "execution_count": 32,
     "metadata": {},
     "output_type": "execute_result"
    }
   ],
   "source": [
    "female.mean()"
   ]
  },
  {
   "cell_type": "code",
   "execution_count": 33,
   "id": "396faf98",
   "metadata": {},
   "outputs": [
    {
     "data": {
      "text/plain": [
       "Ttest_indResult(statistic=0.8422524203324223, pvalue=0.3998326311098064)"
      ]
     },
     "execution_count": 33,
     "metadata": {},
     "output_type": "execute_result"
    }
   ],
   "source": [
    "stats.ttest_ind(male,female)"
   ]
  },
  {
   "cell_type": "raw",
   "id": "451702b2",
   "metadata": {},
   "source": [
    "p-value = 0.3998326311098064  which is greater than 0.05 , so, we cannot reject null hypothesis. \n",
    "With 95 percent confidence interval, we cannot say there is  similarity in the amount claimed by males and females with the help of this data ."
   ]
  },
  {
   "cell_type": "markdown",
   "id": "884e2427",
   "metadata": {},
   "source": [
    "# 17. Is there any relationship between age category and segment?"
   ]
  },
  {
   "cell_type": "code",
   "execution_count": 34,
   "id": "9c454d69",
   "metadata": {},
   "outputs": [
    {
     "data": {
      "text/plain": [
       "(1.1613460959114734,\n",
       " 0.8844207996497491,\n",
       " 4,\n",
       " array([[254.37788018, 245.559447  , 236.06267281],\n",
       "        [  7.25806452,   7.00645161,   6.73548387],\n",
       "        [113.3640553 , 109.43410138, 105.20184332]]))"
      ]
     },
     "execution_count": 34,
     "metadata": {},
     "output_type": "execute_result"
    }
   ],
   "source": [
    "stats.chi2_contingency(pd.crosstab(data.Category,data.Segment))"
   ]
  },
  {
   "cell_type": "raw",
   "id": "e1bbf20c",
   "metadata": {},
   "source": [
    "p-value=0.8844207996497491 which is greater than 0.05, so, we cannot reject null hypothesis.\n",
    "With 95 percent confidence interval, we can conclude  that we cannot say there is relationship between age category and segment with the help of this data ."
   ]
  },
  {
   "cell_type": "markdown",
   "id": "f08b719e",
   "metadata": {},
   "source": [
    "# 18. The current year has shown a significant rise in claim amounts as compared to 2016-17 fiscal average which was $10,000."
   ]
  },
  {
   "cell_type": "code",
   "execution_count": 35,
   "id": "cd9b02ba",
   "metadata": {},
   "outputs": [
    {
     "data": {
      "text/plain": [
       "11884.917050691245"
      ]
     },
     "execution_count": 35,
     "metadata": {},
     "output_type": "execute_result"
    }
   ],
   "source": [
    "data.claim_amount.mean()"
   ]
  },
  {
   "cell_type": "code",
   "execution_count": 36,
   "id": "c3308a1f",
   "metadata": {},
   "outputs": [
    {
     "data": {
      "text/plain": [
       "Ttest_1sampResult(statistic=4.578170709226267, pvalue=5.233071884881618e-06)"
      ]
     },
     "execution_count": 36,
     "metadata": {},
     "output_type": "execute_result"
    }
   ],
   "source": [
    "stats.ttest_1samp(data.claim_amount,10000)"
   ]
  },
  {
   "cell_type": "raw",
   "id": "e5ed0d18",
   "metadata": {},
   "source": [
    "p-value = 5.233071884881618e-06 which is less than 0.05 ,so ,we can reject null hypothesis.\n",
    "With 95 percent confidence interval,,we can say that The current year has shown a significant rise in claim amounts as compared to 2016-17 fiscal average which was $10,000."
   ]
  },
  {
   "cell_type": "markdown",
   "id": "8e4d50b4",
   "metadata": {},
   "source": [
    "# 19. Is there any difference between age groups and insurance claims?"
   ]
  },
  {
   "cell_type": "code",
   "execution_count": 37,
   "id": "7e83ccee",
   "metadata": {},
   "outputs": [],
   "source": [
    "Adult_claim_amount=data.query('Category==\"Adult\"').claim_amount\n",
    "Youth_claim_amount=data.query('Category==\"Youth\"').claim_amount\n",
    "Children_claim_amount=data.query('Category==\"Children\"').claim_amount"
   ]
  },
  {
   "cell_type": "code",
   "execution_count": 38,
   "id": "11b784d0",
   "metadata": {},
   "outputs": [
    {
     "data": {
      "text/plain": [
       "12329.341032608696"
      ]
     },
     "execution_count": 38,
     "metadata": {},
     "output_type": "execute_result"
    }
   ],
   "source": [
    "Adult_claim_amount.mean()"
   ]
  },
  {
   "cell_type": "code",
   "execution_count": 39,
   "id": "c9f9ab14",
   "metadata": {},
   "outputs": [
    {
     "data": {
      "text/plain": [
       "10683.469512195123"
      ]
     },
     "execution_count": 39,
     "metadata": {},
     "output_type": "execute_result"
    }
   ],
   "source": [
    "Youth_claim_amount.mean()"
   ]
  },
  {
   "cell_type": "code",
   "execution_count": 40,
   "id": "f0db0c8f",
   "metadata": {},
   "outputs": [
    {
     "data": {
      "text/plain": [
       "15074.380952380952"
      ]
     },
     "execution_count": 40,
     "metadata": {},
     "output_type": "execute_result"
    }
   ],
   "source": [
    "Children_claim_amount.mean()"
   ]
  },
  {
   "cell_type": "code",
   "execution_count": 41,
   "id": "fb915f02",
   "metadata": {},
   "outputs": [
    {
     "data": {
      "text/plain": [
       "F_onewayResult(statistic=2.268381364379762, pvalue=0.1039714412624388)"
      ]
     },
     "execution_count": 41,
     "metadata": {},
     "output_type": "execute_result"
    }
   ],
   "source": [
    "stats.f_oneway(Adult_claim_amount,Youth_claim_amount,Children_claim_amount)"
   ]
  },
  {
   "cell_type": "raw",
   "id": "54025653",
   "metadata": {},
   "source": [
    "pvalue=0.1039714412624388 which is greater than 0.05, so, we cannot reject null hypothesis.\n",
    "With 95 percent confidence interval, we cannot say there is difference between age groups and insurance claims with the\n",
    "help of this data."
   ]
  },
  {
   "cell_type": "markdown",
   "id": "f74ccd39",
   "metadata": {},
   "source": [
    "# 20. Is there any relationship between total number of policy claims and the claimed amount?"
   ]
  },
  {
   "cell_type": "code",
   "execution_count": 42,
   "id": "9df28ef6",
   "metadata": {},
   "outputs": [
    {
     "data": {
      "text/plain": [
       "(-0.016068558048399968, 0.5970054601981295)"
      ]
     },
     "execution_count": 42,
     "metadata": {},
     "output_type": "execute_result"
    }
   ],
   "source": [
    "stats.pearsonr(data.total_policy_claims,data.claim_amount)"
   ]
  },
  {
   "cell_type": "raw",
   "id": "47d40875",
   "metadata": {},
   "source": [
    "p-value= 0.5970054601981295 which is greater than 0.05, so, we cannot reject null hypothesis.\n",
    "With 95 percent confidence interval, we cannot say there is relationship between total number of policy claims and the claimed amount with the help of this data."
   ]
  }
 ],
 "metadata": {
  "kernelspec": {
   "display_name": "Python 3 (ipykernel)",
   "language": "python",
   "name": "python3"
  },
  "language_info": {
   "codemirror_mode": {
    "name": "ipython",
    "version": 3
   },
   "file_extension": ".py",
   "mimetype": "text/x-python",
   "name": "python",
   "nbconvert_exporter": "python",
   "pygments_lexer": "ipython3",
   "version": "3.9.7"
  }
 },
 "nbformat": 4,
 "nbformat_minor": 5
}
